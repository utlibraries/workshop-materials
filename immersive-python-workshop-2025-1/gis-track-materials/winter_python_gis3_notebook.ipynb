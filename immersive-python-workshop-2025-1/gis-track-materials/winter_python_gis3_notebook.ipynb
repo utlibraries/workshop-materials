{
  "cells": [
    {
      "cell_type": "markdown",
      "metadata": {
        "id": "1g7vMqFxDP1r"
      },
      "source": [
        "\n",
        "\n",
        "import urlretirive and os"
      ]
    },
    {
      "cell_type": "code",
      "execution_count": null,
      "metadata": {
        "colab": {
          "base_uri": "https://localhost:8080/"
        },
        "id": "nLg7sNrtCMh4",
        "outputId": "588f68c1-df93-436e-b985-1c0166267b9f"
      },
      "outputs": [],
      "source": [
        "'''\n",
        "pip install rasterio\n",
        "pip install urllib\n",
        "pip install matplotlib\n",
        "'''\n",
        "from urllib.request import urlretrieve\n",
        "import os\n",
        "import matplotlib.pyplot as plt\n",
        "import rasterio\n",
        "import numpy as np"
      ]
    },
    {
      "cell_type": "markdown",
      "metadata": {
        "id": "cS0g6zxcDeP0"
      },
      "source": [
        "Define where our file is located and name the file and then save it using urlretrive"
      ]
    },
    {
      "cell_type": "code",
      "execution_count": null,
      "metadata": {
        "colab": {
          "base_uri": "https://localhost:8080/"
        },
        "id": "C4T8E3uECvpg",
        "outputId": "d6b66a66-0beb-45bc-bfcb-8e1a923cc43d"
      },
      "outputs": [],
      "source": [
        "url = (\"https://ut-austin.maps.arcgis.com/sharing/rest/content/items/e222eb478a76419a804ea0acd1724c07/data\")\n",
        "\n",
        "#If working locally, you might want to specifiy a path\n",
        "filename = \"austin_naip.tif\"\n",
        "\n",
        "\n",
        "urlretrieve(url, filename)\n"
      ]
    },
    {
      "cell_type": "markdown",
      "metadata": {
        "id": "Vbdcc1sxEBZ3"
      },
      "source": [
        "Plot the multiband raster image using geowombat (gw)\n",
        "\n",
        "Notice we define the bands and band order\n",
        "\n",
        "\n",
        "\n",
        "plt.subplots() is a function that returns a tuple containing a figure and axes object(s). Thus when using fig, ax = plt.subplots() you unpack this tuple into the variables fig and ax"
      ]
    },
    {
      "cell_type": "code",
      "execution_count": null,
      "metadata": {
        "colab": {
          "base_uri": "https://localhost:8080/",
          "height": 452
        },
        "collapsed": true,
        "id": "J8dayJAfC6oY",
        "outputId": "a1e3006e-a57d-4951-98c5-1d5a26b8ef0a"
      },
      "outputs": [],
      "source": [
        "import rasterio\n",
        "import numpy as np\n",
        "import matplotlib.pyplot as plt\n",
        "raster = rasterio.open(\"austin_naip.tif\")\n",
        "\n",
        "# Normalize bands into 0.0 - 1.0 scale\n",
        "def normalize(array):\n",
        "    array_min, array_max = array.min(), array.max()\n",
        "    return (array - array_min) / (array_max - array_min)\n",
        "\n",
        "# Convert to numpy arrays\n",
        "nir = raster.read(1)\n",
        "red = raster.read(2)\n",
        "green = raster.read(3)\n",
        "blue = raster.read(4)\n",
        "\n",
        "# Normalize band DN\n",
        "nir_norm = normalize(nir)\n",
        "red_norm = normalize(red)\n",
        "green_norm = normalize(green)\n",
        "blue_norm = normalize(blue)\n",
        "\n",
        "# Stack bands\n",
        "nrg = np.dstack((nir_norm, red_norm, green_norm))\n",
        "\n",
        "# View the color composite\n",
        "plt.imshow(nrg)"
      ]
    },
    {
      "cell_type": "markdown",
      "metadata": {
        "id": "pwIZpyNzbu3S"
      },
      "source": [
        "Produce an NDVI image\n",
        "\n",
        "(NIR - R) / (NIR + R)"
      ]
    },
    {
      "cell_type": "code",
      "execution_count": null,
      "metadata": {
        "id": "6mpL9x14du-k"
      },
      "outputs": [],
      "source": [
        "import rasterio\n",
        "import numpy\n",
        "import matplotlib.pyplot as plt\n",
        "\n",
        "# Do not display error when divided by zero\n",
        "\n",
        "numpy.seterr(divide='ignore', invalid='ignore')\n",
        "\n",
        "# NDVI\n",
        "ndvi = (nir.astype(float) - red.astype(float)) / (nir.astype(float) + red.astype(float))\n"
      ]
    },
    {
      "cell_type": "code",
      "execution_count": null,
      "metadata": {
        "colab": {
          "base_uri": "https://localhost:8080/"
        },
        "id": "mDLg-6HntWNX",
        "outputId": "1a4d9707-0584-4aaf-e95d-6625cd9b89c1"
      },
      "outputs": [],
      "source": [
        "print(numpy.nanmin(ndvi))\n",
        "print(numpy.nanmax(ndvi))"
      ]
    },
    {
      "cell_type": "markdown",
      "metadata": {
        "id": "SjwpOGbxvDM_"
      },
      "source": [
        "Produce a new file with metadata for the NDVI Image"
      ]
    },
    {
      "cell_type": "code",
      "execution_count": null,
      "metadata": {
        "colab": {
          "base_uri": "https://localhost:8080/"
        },
        "collapsed": true,
        "id": "QEcfWwAAtWNY",
        "outputId": "e1c8d837-06c4-4581-a1f1-960f698584f6"
      },
      "outputs": [],
      "source": [
        "# get the metadata of original GeoTIFF:\n",
        "meta = raster.meta\n",
        "print(meta)\n",
        "\n",
        "# get the dtype of our NDVI array:\n",
        "ndvi_dtype = ndvi.dtype\n",
        "print(ndvi_dtype)\n",
        "\n",
        "# set the source metadata as kwargs we'll use to write the new data:\n",
        "kwargs = meta\n",
        "\n",
        "# update the 'dtype' value to match our NDVI array's dtype:\n",
        "kwargs.update(dtype=ndvi_dtype)\n",
        "\n",
        "# update the 'count' value since our output will no longer be a 4-band image:\n",
        "kwargs.update(count=1)\n",
        "\n",
        "# Finally, use rasterio to write new raster file 'data/ndvi.tif':\n",
        "with rasterio.open('ndvi.tif', 'w', **kwargs) as dst:\n",
        "        dst.write(ndvi, 1)"
      ]
    },
    {
      "cell_type": "markdown",
      "metadata": {
        "id": "Kn2yLkRHvZbH"
      },
      "source": [
        "Now we are going to plot our NDVI data. The first step is choosing colors and matching the color scheme to the NDVI data\n"
      ]
    },
    {
      "cell_type": "markdown",
      "metadata": {
        "id": "BwqVQWxNxMPJ"
      },
      "source": [
        "Here we are defining a custom normalization class called MidpointNormalize to center the colormap around a specific midpoint. This is useful for data like NDVI, where the most interesting values are often clustered around a central point.\n",
        "\n",
        "Here's a breakdown:\n",
        "\n",
        "Import: from matplotlib import colors imports the necessary module for working with colormaps.\n",
        "\n",
        "Class Definition: class MidpointNormalize(colors.Normalize) defines a new class inheriting from colors.Normalize, which is the base class for normalization in Matplotlib.\n",
        "\n",
        "Constructor (__init__):\n",
        "\n",
        "Takes optional arguments vmin, vmax, and midpoint.\n",
        "Stores the provided midpoint value for later use.\n",
        "Calls the constructor of the parent class (colors.Normalize) to initialize the basic normalization behavior.\n",
        "Call Method (__call__):\n",
        "\n",
        "This method is executed when the normalization object is called with a value.\n",
        "It maps the input value to a normalized range between 0 and 1, centered around the midpoint.\n",
        "It uses numpy.interp to linearly interpolate the value between the minimum, midpoint, and maximum values.\n",
        "It returns a masked array, where values outside the valid range are masked using numpy.isnan."
      ]
    },
    {
      "cell_type": "code",
      "execution_count": null,
      "metadata": {
        "id": "LF7IUT3otWNY"
      },
      "outputs": [],
      "source": [
        "from matplotlib import colors\n",
        "\n",
        "\n",
        "class MidpointNormalize(colors.Normalize):\n",
        "\n",
        "    def __init__(self, vmin=None, vmax=None, midpoint=None, clip=False):\n",
        "        self.midpoint = midpoint\n",
        "        colors.Normalize.__init__(self, vmin, vmax, clip)\n",
        "\n",
        "    def __call__(self, value, clip=None):\n",
        "\n",
        "        x, y = [self.vmin, self.midpoint, self.vmax], [0, 0.5, 1]\n",
        "        return numpy.ma.masked_array(numpy.interp(value, x, y), numpy.isnan(value))"
      ]
    },
    {
      "cell_type": "code",
      "execution_count": null,
      "metadata": {
        "colab": {
          "base_uri": "https://localhost:8080/",
          "height": 792
        },
        "collapsed": true,
        "id": "hAl_rDNmtWNY",
        "outputId": "3a0cf08d-9519-4787-e971-7b17cff087c3"
      },
      "outputs": [],
      "source": [
        "import numpy\n",
        "import matplotlib.pyplot as plt\n",
        "# Set min/max values from NDVI range for image\n",
        "\n",
        "min=numpy.nanmin(ndvi)\n",
        "max=numpy.nanmax(ndvi)\n",
        "\n",
        "# Set our custom midpoint for most effective NDVI analysis\n",
        "mid=0.1\n",
        "\n",
        "# Setting color scheme ref:https://matplotlib.org/users/colormaps.html as a reference\n",
        "colormap = plt.cm.RdYlGn\n",
        "norm = MidpointNormalize(vmin=min, vmax=max, midpoint=mid)\n",
        "fig = plt.figure(figsize=(20,10))\n",
        "\n",
        "\n",
        "ax = fig.add_subplot(111)\n",
        "\n",
        "# Use 'imshow' to specify the input data, colormap, min, max, and norm for the colorbar\n",
        "cbar_plot = ax.imshow(ndvi, vmin=min, vmax=max, cmap=colormap)\n",
        "\n",
        "\n",
        "# Turn off the display of axis labels\n",
        "ax.axis('off')\n",
        "\n",
        "# Set a title\n",
        "ax.set_title('Normalized Difference Vegetation Index', fontsize=17, fontweight='bold')\n",
        "\n",
        "# Configure the colorbar\n",
        "cbar = fig.colorbar(cbar_plot, orientation='horizontal', shrink=0.65)\n",
        "\n",
        "# Call 'savefig' to save this plot to an image file\n",
        "fig.savefig(\"ndvi-image.png\", dpi=200, bbox_inches='tight', pad_inches=0.7)\n",
        "\n",
        "# let's visualize\n",
        "plt.show()"
      ]
    },
    {
      "cell_type": "markdown",
      "metadata": {
        "id": "9JUie-IzyTqj"
      },
      "source": [
        "On your own:\n",
        "\n",
        "Expiriement with a different image of your choice (e.g., Landsat or a different NAIP image)\n",
        "\n",
        "Choose a different index to work with (e.g., EVI or NDWI)"
      ]
    }
  ],
  "metadata": {
    "colab": {
      "provenance": []
    },
    "kernelspec": {
      "display_name": "Python 3",
      "name": "python3"
    },
    "language_info": {
      "codemirror_mode": {
        "name": "ipython",
        "version": 3
      },
      "file_extension": ".py",
      "mimetype": "text/x-python",
      "name": "python",
      "nbconvert_exporter": "python",
      "pygments_lexer": "ipython3",
      "version": "3.11.5"
    }
  },
  "nbformat": 4,
  "nbformat_minor": 0
}
