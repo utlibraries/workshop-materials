{
  "cells": [
    {
      "cell_type": "markdown",
      "metadata": {
        "id": "wPzuh8DdgQcX"
      },
      "source": [
        "Install open street maps and then import the other nessassary packages"
      ]
    },
    {
      "cell_type": "code",
      "execution_count": 1,
      "metadata": {
        "colab": {
          "base_uri": "https://localhost:8080/"
        },
        "id": "2MXBeNO00UQg",
        "outputId": "495a3e1d-4d06-4fd6-cfcb-b95a048612b3"
      },
      "outputs": [],
      "source": [
        "'''\n",
        "pip install osmnx\n",
        "pip install geopandas\n",
        "pip install matplotlib\n",
        "pip install shapely\n",
        "'''\n",
        "import osmnx as ox\n",
        "import geopandas as gpd\n",
        "import matplotlib.pyplot as plt\n",
        "from shapely.geometry.polygon import Polygon\n",
        "\n"
      ]
    },
    {
      "cell_type": "markdown",
      "metadata": {
        "id": "N8DJFFQUgZYy"
      },
      "source": [
        "Load a Country or City as a geodataframe and project it onto a plot\n",
        "\n",
        "Notice the _ =\n",
        "\n",
        "Python automatically stores the value of the last expression in the interpreter to a particular variable called \"_.\"\n",
        "\n",
        "\n",
        "\n"
      ]
    },
    {
      "cell_type": "code",
      "execution_count": null,
      "metadata": {
        "colab": {
          "base_uri": "https://localhost:8080/",
          "height": 367
        },
        "id": "At-FOmHScPvw",
        "outputId": "1c7794e6-9fc4-4e94-c2d7-0a30d93cf356"
      },
      "outputs": [],
      "source": [
        "import osmnx as ox\n",
        "country = ox.geocode_to_gdf('India')\n",
        "ax = ox.project_gdf(country).plot()\n",
        "_ = ax.axis('off')\n"
      ]
    },
    {
      "cell_type": "markdown",
      "metadata": {
        "id": "wO415iUOh89G"
      },
      "source": [
        "Same thing here but with a list"
      ]
    },
    {
      "cell_type": "code",
      "execution_count": null,
      "metadata": {
        "colab": {
          "base_uri": "https://localhost:8080/",
          "height": 475
        },
        "id": "hZjzdxp_dln9",
        "outputId": "b3896876-f789-4912-c465-aa17106267e6"
      },
      "outputs": [],
      "source": [
        "places = ox.geocode_to_gdf(['Botswana', 'Angola', 'Zambia', 'South Africa', 'Zimbabwe', 'Namibia'])\n",
        "places = ox.project_gdf(places)\n",
        "places.to_file('s-africa')\n",
        "ax = places.plot()\n",
        "_ = ax.axis('off')\n"
      ]
    },
    {
      "cell_type": "markdown",
      "metadata": {
        "id": "oGx-XJGyhm1o"
      },
      "source": [
        "Produce a street network from a bounding box  (north, south, east, west)\n",
        "\n",
        "You can also simply type the name of a location like we did before. But for many cities (e.g., Austin, NYC) it takes a long time to load everything within the location."
      ]
    },
    {
      "cell_type": "code",
      "execution_count": null,
      "metadata": {
        "colab": {
          "base_uri": "https://localhost:8080/",
          "height": 609
        },
        "id": "F9UfC0vGd0Nw",
        "outputId": "905a0f77-3fad-48dd-d6db-3c4d50f27894"
      },
      "outputs": [],
      "source": [
        "G = ox.graph_from_bbox(30.29, 30.27, -97.72, -97.75, network_type='drive')\n",
        "G_projected = ox.project_graph(G)\n",
        "ox.plot_graph(G_projected)"
      ]
    },
    {
      "cell_type": "markdown",
      "metadata": {
        "id": "rOwCyjkQhyBa"
      },
      "source": [
        "Filter to find restaurants in Austin using the geometries_from_place function\n",
        "\n",
        "https://wiki.openstreetmap.org/wiki/Key:amenity"
      ]
    },
    {
      "cell_type": "code",
      "execution_count": null,
      "metadata": {
        "colab": {
          "base_uri": "https://localhost:8080/"
        },
        "id": "SSjA4SiBdtWJ",
        "outputId": "1e35996f-f263-44d8-9406-eda898c20aba"
      },
      "outputs": [],
      "source": [
        "# List key-value pairs for tags\n",
        "tags = {'amenity': 'restaurant'}\n",
        "\n",
        "# Retrieve restaurants\n",
        "restaurants = ox.geometries_from_place('Austin, Texas', tags)\n",
        "\n",
        "# How many restaurants do we have?\n",
        "len(restaurants)"
      ]
    },
    {
      "cell_type": "markdown",
      "metadata": {
        "id": "rOSqsvS2irFT"
      },
      "source": [
        "Check to see what columns are associated with restaruants"
      ]
    },
    {
      "cell_type": "code",
      "execution_count": null,
      "metadata": {
        "colab": {
          "base_uri": "https://localhost:8080/"
        },
        "id": "lboPnC92fPMz",
        "outputId": "5360f607-e247-451e-e936-c517cd090de3"
      },
      "outputs": [],
      "source": [
        "# Available columns\n",
        "restaurants.columns.values"
      ]
    },
    {
      "cell_type": "markdown",
      "metadata": {
        "id": "C2ni_WiJj8Vl"
      },
      "source": [
        "Look at some of the columns"
      ]
    },
    {
      "cell_type": "code",
      "execution_count": null,
      "metadata": {
        "colab": {
          "base_uri": "https://localhost:8080/",
          "height": 768
        },
        "id": "nZGbjyPIfcob",
        "outputId": "d19db05b-89f5-4ec0-a00c-2c740d50691e"
      },
      "outputs": [],
      "source": [
        "# Select some useful cols and print\n",
        "cols = ['name', 'opening_hours', 'addr:city', 'addr:country',\n",
        "        'addr:housenumber', 'addr:postcode', 'addr:street']\n",
        "\n",
        "# Print only selected cols\n",
        "restaurants[cols].head(100)"
      ]
    },
    {
      "cell_type": "markdown",
      "metadata": {
        "id": "ZrSRgyPkkbHY"
      },
      "source": [
        "Let's make a cool looking map!"
      ]
    },
    {
      "cell_type": "code",
      "execution_count": null,
      "metadata": {
        "colab": {
          "base_uri": "https://localhost:8080/"
        },
        "id": "XN22DmKQ9FMG",
        "outputId": "77b81cef-8443-4b17-d900-4b5af039a40a"
      },
      "outputs": [],
      "source": [
        "# define a bounding box\n",
        "north, south, east, west = 30.29, 30.27, -97.72, -97.75\n",
        "\n",
        "#convert the bounding box to a polygon\n",
        "poly = ox.utils_geo.bbox_to_poly(north, south, east, west)\n",
        "\n",
        "#convert the polygon to a geo data frame\n",
        "region = gpd.GeoDataFrame(index=[0], crs='epsg:4326', geometry=[poly])\n",
        "\n",
        "#building: True means that every type of buildings will be downloaded\n",
        "buildings = ox.features_from_bbox(north, south, east, west, tags = {'building': True})\n",
        "\n",
        "#Using graph module we will recieve graph of roads in the city\n",
        "roads = ox.graph.graph_from_bbox(north, south, east, west)\n",
        "\n",
        "#Here we specify specific tags\n",
        "rivers = ox.features_from_bbox(north, south, east, west, tags = {'waterway': True})\n",
        "parks = ox.features_from_bbox(north, south, east, west, tags = {'leisure': 'park'})\n",
        "univeristy = ox.features_from_bbox(north, south, east, west, tags = {'amenity': 'university'})\n",
        "\n"
      ]
    },
    {
      "cell_type": "code",
      "execution_count": null,
      "metadata": {
        "colab": {
          "background_save": true,
          "base_uri": "https://localhost:8080/",
          "height": 910
        },
        "id": "kukZprZT9UE8",
        "outputId": "c8bf557e-0eed-4b2e-9d8b-1b1a5bd06488"
      },
      "outputs": [],
      "source": [
        "#city\n",
        "ax = region.plot(facecolor = '#333f48', figsize=(85,85))\n",
        "ax.set_facecolor('#d6d2c4')\n",
        "\n",
        "univeristy.plot(facecolor = 'grey',\n",
        "            edgecolor = 'grey',\n",
        "            linewidth = 2,\n",
        "            markersize = 1,\n",
        "            ax = ax)\n",
        "\n",
        "buildings['geometry'].plot(facecolor = '#bf5700',\n",
        "                           edgecolor = '#bf5700',\n",
        "                           linewidth = 1,\n",
        "                           markersize = 1,\n",
        "                           ax = ax)\n",
        "\n",
        "parks.plot(facecolor = '#1b9e77',\n",
        "            edgecolor = '#1b9e77',\n",
        "            linewidth = 2,\n",
        "            markersize = 1,\n",
        "            ax = ax)\n",
        "\n",
        "rivers.plot(edgecolor = '#2c7fb8',\n",
        "            linewidth = 8,\n",
        "            linestyle = '-',\n",
        "            ax = ax)\n",
        "\n",
        "ox.plot_graph(roads,\n",
        "              edge_color = 'white',\n",
        "              node_color = 'white',\n",
        "              edge_linewidth=1,\n",
        "              node_size = 1,\n",
        "              ax=ax)\n",
        "\n",
        "ax.grid('on', which='major', axis='x', color = '#99A2A2')\n",
        "ax.grid('on', which='major', axis='y', color = '#99A2A2')\n",
        "plt.show()\n"
      ]
    }
  ],
  "metadata": {
    "colab": {
      "provenance": []
    },
    "kernelspec": {
      "display_name": "Python 3",
      "name": "python3"
    },
    "language_info": {
      "codemirror_mode": {
        "name": "ipython",
        "version": 3
      },
      "file_extension": ".py",
      "mimetype": "text/x-python",
      "name": "python",
      "nbconvert_exporter": "python",
      "pygments_lexer": "ipython3",
      "version": "3.11.5"
    }
  },
  "nbformat": 4,
  "nbformat_minor": 0
}
